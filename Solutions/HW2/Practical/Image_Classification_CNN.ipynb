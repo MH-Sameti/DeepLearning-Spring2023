{
 "cells": [
  {
   "cell_type": "markdown",
   "metadata": {
    "id": "XsrcohGwVhLJ"
   },
   "source": [
    "<h1 style=\"text-align: center\">\n",
    "Deep Learning HW2 </br> \n",
    "Image Classification\n",
    "</h1>"
   ]
  },
  {
   "cell_type": "markdown",
   "metadata": {
    "id": "MLmC7lVpRx8y"
   },
   "source": [
    "### Full Name: Mohammad Hossei Sameti\n",
    "### Student ID: 401204932"
   ]
  },
  {
   "cell_type": "markdown",
   "metadata": {
    "id": "atGYO6DvK5NU",
    "papermill": {
     "duration": 0.022376,
     "end_time": "2020-11-06T00:15:34.434234",
     "exception": false,
     "start_time": "2020-11-06T00:15:34.411858",
     "status": "completed"
    },
    "tags": []
   },
   "source": [
    "## Import needed libraries\n"
   ]
  },
  {
   "cell_type": "code",
   "execution_count": 134,
   "metadata": {
    "execution": {
     "iopub.execute_input": "2020-11-06T00:15:34.484628Z",
     "iopub.status.busy": "2020-11-06T00:15:34.483829Z",
     "iopub.status.idle": "2020-11-06T00:15:35.592124Z",
     "shell.execute_reply": "2020-11-06T00:15:35.591266Z"
    },
    "id": "dIjCFmM1K5NX",
    "papermill": {
     "duration": 1.135699,
     "end_time": "2020-11-06T00:15:35.592273",
     "exception": false,
     "start_time": "2020-11-06T00:15:34.456574",
     "status": "completed"
    },
    "tags": []
   },
   "outputs": [],
   "source": [
    "import numpy as np\n",
    "import matplotlib.pyplot as plt\n",
    "import seaborn as sns\n",
    "import torch\n",
    "import torchvision\n",
    "import torchvision.transforms as transforms\n",
    "from torch.utils.data import random_split\n",
    "from torch.utils.data.dataloader import DataLoader\n",
    "from tqdm import tqdm\n",
    "from sklearn.metrics import classification_report"
   ]
  },
  {
   "cell_type": "markdown",
   "metadata": {
    "id": "_ih2AD9ie1MX"
   },
   "source": [
    "## Loading and Pre-Processing data"
   ]
  },
  {
   "cell_type": "code",
   "execution_count": 135,
   "metadata": {},
   "outputs": [],
   "source": [
    "## Download FashionMNIST dataset\n",
    "#################################################################################\n",
    "#                          COMPLETE THE FOLLOWING SECTION                       #\n",
    "#################################################################################\n",
    "# use fashion mnist dataset\n",
    "transform = transforms.ToTensor()\n",
    "train_set = torchvision.datasets.FashionMNIST(root='fashionmnist', download=True, train=True, transform=transform)\n",
    "test_set = torchvision.datasets.FashionMNIST(root='fashionmnist', download=True, train=False, transform=transform)\n",
    "#################################################################################\n",
    "#                                   THE END                                     #\n",
    "#################################################################################"
   ]
  },
  {
   "cell_type": "code",
   "execution_count": 136,
   "metadata": {
    "id": "CsktV4w-e64U"
   },
   "outputs": [],
   "source": [
    "#################################################################################\n",
    "#                          COMPLETE THE FOLLOWING SECTION                       #\n",
    "#################################################################################\n",
    "# split training set into train and validation data\n",
    "train_size = 48000\n",
    "val_size = 60000 - train_size\n",
    "train_ds,val_ds = random_split(train_set, [train_size, val_size])\n",
    "\n",
    "#################################################################################\n",
    "#                                   THE END                                     #\n",
    "#################################################################################"
   ]
  },
  {
   "cell_type": "code",
   "execution_count": 137,
   "metadata": {
    "id": "cRIhgkNPe-rW"
   },
   "outputs": [],
   "source": [
    "#################################################################################\n",
    "#                          COMPLETE THE FOLLOWING SECTION                       #\n",
    "#################################################################################\n",
    "# Loading the dataset into memory using Dataloader\n",
    "# use your desired batch size and shuffle is necessary\n",
    "train_dataloader = DataLoader(train_ds, shuffle=True, batch_size=64)\n",
    "val_dataloader = DataLoader(val_ds, shuffle=True, batch_size=64)\n",
    "test_dataloader = DataLoader(test_set, shuffle=False, batch_size=64)\n",
    "classes = train_set.classes\n",
    "\n",
    "#################################################################################\n",
    "#                                   THE END                                     #\n",
    "#################################################################################"
   ]
  },
  {
   "cell_type": "markdown",
   "metadata": {
    "id": "MVqdLxDd8O5o"
   },
   "source": [
    "**Display some images from dataset**"
   ]
  },
  {
   "cell_type": "code",
   "execution_count": 138,
   "metadata": {},
   "outputs": [
    {
     "data": {
      "text/plain": [
       "['T-shirt/top',\n",
       " 'Trouser',\n",
       " 'Pullover',\n",
       " 'Dress',\n",
       " 'Coat',\n",
       " 'Sandal',\n",
       " 'Shirt',\n",
       " 'Sneaker',\n",
       " 'Bag',\n",
       " 'Ankle boot']"
      ]
     },
     "execution_count": 138,
     "metadata": {},
     "output_type": "execute_result"
    }
   ],
   "source": [
    "classes"
   ]
  },
  {
   "cell_type": "code",
   "execution_count": 139,
   "metadata": {},
   "outputs": [
    {
     "data": {
      "text/plain": [
       "torch.Size([60000, 28, 28])"
      ]
     },
     "execution_count": 139,
     "metadata": {},
     "output_type": "execute_result"
    }
   ],
   "source": [
    "train_dataloader.dataset.dataset.data.shape"
   ]
  },
  {
   "cell_type": "code",
   "execution_count": 140,
   "metadata": {
    "colab": {
     "base_uri": "https://localhost:8080/",
     "height": 154
    },
    "id": "LnhmcZP9e62N",
    "outputId": "c9176fde-7552-4c28-867b-96dd76e02750"
   },
   "outputs": [
    {
     "data": {
      "image/png": "[encoded data removed]",
      "text/plain": [
       "<Figure size 1000x800 with 6 Axes>"
      ]
     },
     "metadata": {},
     "output_type": "display_data"
    }
   ],
   "source": [
    "# get some random training images\n",
    "dataiter = iter(train_dataloader)\n",
    "images, labels = next(dataiter)\n",
    "fig, axes = plt.subplots(nrows=1, ncols=6, figsize=(10, 8), subplot_kw={'xticks': [], 'yticks': []})\n",
    "for i,ax in zip(range(0,6),axes.flat):\n",
    "    img,label=images[i],labels[i]\n",
    "    ax.imshow(img.permute(1, 2, 0))\n",
    "    ax.set_title(f\"Label: {classes[label]}\")\n",
    "\n",
    "plt.tight_layout()\n",
    "plt.show()"
   ]
  },
  {
   "cell_type": "markdown",
   "metadata": {
    "id": "T7RMnLBSK5Nc",
    "papermill": {
     "duration": 0.025997,
     "end_time": "2020-11-06T00:15:44.018664",
     "exception": false,
     "start_time": "2020-11-06T00:15:43.992667",
     "status": "completed"
    },
    "tags": []
   },
   "source": [
    "# Defining the Convolutional Neural Network"
   ]
  },
  {
   "cell_type": "markdown",
   "metadata": {
    "id": "If6yxMmoqxDN"
   },
   "source": [
    "<img src='https://drive.google.com/uc?id=1Euy5_bGIiiYECSZUeEofgTImJWgQ0XLf'>"
   ]
  },
  {
   "cell_type": "markdown",
   "metadata": {
    "id": "F_UOoVg8tjwT"
   },
   "source": [
    "**<h2>Implement the model above in pytorch</h2>**"
   ]
  },
  {
   "cell_type": "code",
   "execution_count": 141,
   "metadata": {
    "id": "5d4iYGy6cwgZ"
   },
   "outputs": [],
   "source": [
    "import torch.nn as nn\n",
    "import torch.nn.functional as F\n",
    "\n",
    "#define the CNN architecture below\n",
    "class Net(nn.Module):\n",
    "    def __init__(self):\n",
    "        super(Net, self).__init__()\n",
    "#################################################################################\n",
    "#                          COMPLETE THE FOLLOWING SECTION                       #\n",
    "#################################################################################\n",
    "        \n",
    "        self.conv1 = nn.Conv2d(in_channels=1, out_channels=1, kernel_size=3, padding=1)\n",
    "        self.bn1 = nn.BatchNorm2d(num_features=1)\n",
    "        self.pool1 = nn.MaxPool2d(kernel_size=2, stride=2)\n",
    "        self.conv2 = nn.Conv2d(in_channels=1, out_channels=2, kernel_size=3)\n",
    "        self.bn2 = nn.BatchNorm2d(num_features=2)\n",
    "        self.pool2 = nn.MaxPool2d(kernel_size=2, stride=2)\n",
    "        self.fc1 = nn.Linear(in_features=2 * 6 * 6, out_features=72)\n",
    "        self.fc2 = nn.Linear(in_features=72, out_features=36)\n",
    "        self.fc3 = nn.Linear(in_features=36, out_features=10)\n",
    "\n",
    "\n",
    "\n",
    "#################################################################################\n",
    "#                                   THE END                                     #\n",
    "#################################################################################\n",
    "        \n",
    "        \n",
    "    def forward(self, x):\n",
    "#################################################################################\n",
    "#                          COMPLETE THE FOLLOWING SECTION                       #\n",
    "#################################################################################\n",
    "        \n",
    "        x = self.conv1(x)\n",
    "        x = self.bn1(x)\n",
    "        x = F.relu(x)\n",
    "        x = self.pool1(x)\n",
    "        x = self.conv2(x)\n",
    "        x = self.bn2(x)\n",
    "        x = F.relu(x)\n",
    "        x = self.pool2(x)\n",
    "        x = x.view(-1, 2 * 6 * 6)\n",
    "        x = self.fc1(x)\n",
    "        x = F.relu(x)\n",
    "        x = self.fc2(x)\n",
    "        x = F.relu(x)\n",
    "        x = self.fc3(x)\n",
    "        \n",
    "        return x\n",
    "\n",
    "\n",
    "#################################################################################\n",
    "#                                   THE END                                     #\n",
    "#################################################################################\n",
    "        \n",
    "        return out"
   ]
  },
  {
   "cell_type": "code",
   "execution_count": 142,
   "metadata": {
    "id": "450scXnLLDSl"
   },
   "outputs": [],
   "source": [
    "# Using GPU if it's available\n",
    "device = torch.device('cuda' if torch.cuda.is_available() else 'cpu')"
   ]
  },
  {
   "cell_type": "code",
   "execution_count": 143,
   "metadata": {
    "colab": {
     "base_uri": "https://localhost:8080/"
    },
    "id": "mPP8CaHv684n",
    "outputId": "32a46884-1fa7-48d8-c1ee-32be11af34e3"
   },
   "outputs": [
    {
     "data": {
      "text/plain": [
       "Net(\n",
       "  (conv1): Conv2d(1, 1, kernel_size=(3, 3), stride=(1, 1), padding=(1, 1))\n",
       "  (bn1): BatchNorm2d(1, eps=1e-05, momentum=0.1, affine=True, track_running_stats=True)\n",
       "  (pool1): MaxPool2d(kernel_size=2, stride=2, padding=0, dilation=1, ceil_mode=False)\n",
       "  (conv2): Conv2d(1, 2, kernel_size=(3, 3), stride=(1, 1))\n",
       "  (bn2): BatchNorm2d(2, eps=1e-05, momentum=0.1, affine=True, track_running_stats=True)\n",
       "  (pool2): MaxPool2d(kernel_size=2, stride=2, padding=0, dilation=1, ceil_mode=False)\n",
       "  (fc1): Linear(in_features=72, out_features=72, bias=True)\n",
       "  (fc2): Linear(in_features=72, out_features=36, bias=True)\n",
       "  (fc3): Linear(in_features=36, out_features=10, bias=True)\n",
       ")"
      ]
     },
     "execution_count": 143,
     "metadata": {},
     "output_type": "execute_result"
    }
   ],
   "source": [
    "cnn_model = Net()\n",
    "cnn_model.to(device)"
   ]
  },
  {
   "cell_type": "markdown",
   "metadata": {
    "id": "NJ0Xr7KfK5Ne",
    "papermill": {
     "duration": 0.026597,
     "end_time": "2020-11-06T00:15:44.148554",
     "exception": false,
     "start_time": "2020-11-06T00:15:44.121957",
     "status": "completed"
    },
    "tags": []
   },
   "source": [
    "# Defining Loss Function and optimizer\n",
    "**Define appropriate Loss Function, Optimizer and Learning Rate**"
   ]
  },
  {
   "cell_type": "code",
   "execution_count": 144,
   "metadata": {
    "execution": {
     "iopub.execute_input": "2020-11-06T00:15:44.209323Z",
     "iopub.status.busy": "2020-11-06T00:15:44.208462Z",
     "iopub.status.idle": "2020-11-06T00:15:44.211159Z",
     "shell.execute_reply": "2020-11-06T00:15:44.211695Z"
    },
    "id": "aAhczTtRK5Nf",
    "papermill": {
     "duration": 0.036545,
     "end_time": "2020-11-06T00:15:44.211856",
     "exception": false,
     "start_time": "2020-11-06T00:15:44.175311",
     "status": "completed"
    },
    "tags": []
   },
   "outputs": [],
   "source": [
    "import torch.optim as optim\n",
    "\n",
    "learning_rate = 0.001\n",
    "criterion = nn.CrossEntropyLoss()\n",
    "optimizer = optim.Adam(cnn_model.parameters(), lr=learning_rate)"
   ]
  },
  {
   "cell_type": "markdown",
   "metadata": {
    "id": "MTs7zqIuT6bI"
   },
   "source": [
    "**Define number of epochs and path to save the best model**"
   ]
  },
  {
   "cell_type": "code",
   "execution_count": 145,
   "metadata": {
    "id": "TIl4qh6gT68p"
   },
   "outputs": [],
   "source": [
    "epochs = 5\n",
    "save_path=\"/Users/mohammadh/Documents/MS/DL/HomeWorks/HW2/content/cnn_model\""
   ]
  },
  {
   "cell_type": "markdown",
   "metadata": {
    "id": "oE5cyPw3K5Ng",
    "papermill": {
     "duration": 0.026206,
     "end_time": "2020-11-06T00:15:44.264708",
     "exception": false,
     "start_time": "2020-11-06T00:15:44.238502",
     "status": "completed"
    },
    "tags": []
   },
   "source": [
    "# Finally we will train our neural network"
   ]
  },
  {
   "cell_type": "code",
   "execution_count": 146,
   "metadata": {
    "id": "2czjHpINLO7A"
   },
   "outputs": [],
   "source": [
    "# multiclass accuracy\n",
    "def multi_acc(y_pred, y_test):\n",
    "    _, y_pred_tags = torch.max(y_pred, dim = 1)    \n",
    "    correct_pred = (y_pred_tags == y_test).float()\n",
    "    acc = correct_pred.sum() / len(correct_pred)\n",
    "    acc = torch.round(acc * 100)\n",
    "    return acc"
   ]
  },
  {
   "cell_type": "markdown",
   "metadata": {
    "id": "-0JhvfcNYGwI"
   },
   "source": [
    "**Implementing the training algorithm and Saving the model with minimum Validation Loss**"
   ]
  },
  {
   "cell_type": "code",
   "execution_count": 147,
   "metadata": {
    "id": "Dhs9WLSeNA-6"
   },
   "outputs": [],
   "source": [
    "# training loop\n",
    "def train_model(model, train_dataloader, val_dataloader, n_epochs, optimizer, criterion, device, save_path):\n",
    "    train_losses = []\n",
    "    val_losses = []\n",
    "    valid_loss_min = np.Inf \n",
    "\n",
    "    for epoch in range(n_epochs):\n",
    "#################################################################################\n",
    "#                          COMPLETE THE FOLLOWING SECTION                       #\n",
    "#################################################################################\n",
    "        ####### Training Phase ########\n",
    "        model.train()\n",
    "        with tqdm(train_dataloader, unit=\"batch\") as batches:\n",
    "            epoch_loss = 0\n",
    "            for data, target in batches:\n",
    "                batches.set_description(f\"Epoch {epoch + 1}\")\n",
    "\n",
    "                # move to GPU\n",
    "                data, target = data.to(device), target.to(device)\n",
    "\n",
    "                # train \n",
    "                optimizer.zero_grad()\n",
    "                output = model(data)\n",
    "                loss = criterion(output, target)\n",
    "                loss.backward()\n",
    "                optimizer.step()\n",
    "                epoch_loss += loss.item()\n",
    "                \n",
    "\n",
    "\n",
    "                acc = multi_acc(output, target)\n",
    "                batches.set_postfix(train_loss = loss.item(), train_accuracy = acc.item()) # show loss and accuracy per batch of data\n",
    "        train_losses.append(epoch_loss)\n",
    "\n",
    "\n",
    "        ####### Validation Phase ########\n",
    "        model.eval()\n",
    "        with torch.no_grad():\n",
    "            valid_loss = 0\n",
    "            # run the prediction on the validation dataloader,\n",
    "            y_true, y_pred = [], []\n",
    "            for batch_idx, (data, target) in enumerate(val_dataloader):\n",
    "                # move to GPU\n",
    "                data, target = data.to(device), target.to(device)\n",
    "                # validation\n",
    "                output = model(data)\n",
    "                loss = criterion(output, target)\n",
    "\n",
    "                # update validation loss\n",
    "                valid_loss += loss.item()\n",
    "\n",
    "                # calculate accuracy\n",
    "                acc = multi_acc(output, target)\n",
    "\n",
    "                # store true and predicted labels for calculating metrics\n",
    "                y_true.extend(target.cpu().numpy())\n",
    "                y_pred.extend(torch.argmax(output, axis=1).cpu().numpy())\n",
    "\n",
    "#################################################################################\n",
    "#                                   THE END                                     #\n",
    "#################################################################################\n",
    "        val_losses.append(float(valid_loss))\n",
    "        \n",
    "        # print validation statistics \n",
    "        print('Epoch: {}  Validation Loss: {:.6f}'.format(epoch+1, valid_loss))\n",
    "\n",
    "        ## If the valiation loss has decreased, then saving the model\n",
    "        if valid_loss <= valid_loss_min:\n",
    "            print('Validation loss decreased ({:.6f} --> {:.6f}).  Saving model ...'.format(\n",
    "            valid_loss_min,\n",
    "            valid_loss))\n",
    "            #torch.save(model.state_dict(), save_path)\n",
    "            valid_loss_min = valid_loss \n",
    "\n",
    "    return model, train_losses, val_losses"
   ]
  },
  {
   "cell_type": "markdown",
   "metadata": {
    "id": "Iz5KwJJ61LAI"
   },
   "source": [
    "**Train the model**"
   ]
  },
  {
   "cell_type": "code",
   "execution_count": 148,
   "metadata": {
    "colab": {
     "base_uri": "https://localhost:8080/"
    },
    "id": "xfSGwRGHSRbP",
    "outputId": "ce989a02-cf42-4287-9628-0ae9ce926ae9"
   },
   "outputs": [
    {
     "name": "stderr",
     "output_type": "stream",
     "text": [
      "Epoch 1: 100%|█| 750/750 [00:06<00:00, 118.63batch/s, train_accuracy=81, train_l\n"
     ]
    },
    {
     "name": "stdout",
     "output_type": "stream",
     "text": [
      "Epoch: 1  Validation Loss: 97.146515\n",
      "Validation loss decreased (inf --> 97.146515).  Saving model ...\n"
     ]
    },
    {
     "name": "stderr",
     "output_type": "stream",
     "text": [
      "Epoch 2: 100%|█| 750/750 [00:06<00:00, 119.66batch/s, train_accuracy=84, train_l\n"
     ]
    },
    {
     "name": "stdout",
     "output_type": "stream",
     "text": [
      "Epoch: 2  Validation Loss: 87.741470\n",
      "Validation loss decreased (97.146515 --> 87.741470).  Saving model ...\n"
     ]
    },
    {
     "name": "stderr",
     "output_type": "stream",
     "text": [
      "Epoch 3: 100%|█| 750/750 [00:06<00:00, 120.19batch/s, train_accuracy=84, train_l\n"
     ]
    },
    {
     "name": "stdout",
     "output_type": "stream",
     "text": [
      "Epoch: 3  Validation Loss: 82.821189\n",
      "Validation loss decreased (87.741470 --> 82.821189).  Saving model ...\n"
     ]
    },
    {
     "name": "stderr",
     "output_type": "stream",
     "text": [
      "Epoch 4: 100%|█| 750/750 [00:06<00:00, 119.95batch/s, train_accuracy=80, train_l\n"
     ]
    },
    {
     "name": "stdout",
     "output_type": "stream",
     "text": [
      "Epoch: 4  Validation Loss: 77.527723\n",
      "Validation loss decreased (82.821189 --> 77.527723).  Saving model ...\n"
     ]
    },
    {
     "name": "stderr",
     "output_type": "stream",
     "text": [
      "Epoch 5: 100%|█| 750/750 [00:06<00:00, 119.52batch/s, train_accuracy=86, train_l\n"
     ]
    },
    {
     "name": "stdout",
     "output_type": "stream",
     "text": [
      "Epoch: 5  Validation Loss: 79.649702\n"
     ]
    }
   ],
   "source": [
    "#################################################################################\n",
    "#                          COMPLETE THE FOLLOWING SECTION                       #\n",
    "#################################################################################\n",
    "#Your Code Here\n",
    "#################################################################################\n",
    "#                          COMPLETE THE FOLLOWING SECTION                       #\n",
    "#################################################################################\n",
    "#Your Code Here\n",
    "trained_model, train_losses, val_losses = train_model(cnn_model, train_dataloader, val_dataloader, epochs, optimizer, criterion, device, save_path)\n",
    "#################################################################################\n",
    "#                                   THE END                                     #\n",
    "#################################################################################\n",
    "#################################################################################\n",
    "#                                   THE END                                     #\n",
    "#################################################################################"
   ]
  },
  {
   "cell_type": "code",
   "execution_count": 149,
   "metadata": {
    "id": "1VIIMDdGUgwZ"
   },
   "outputs": [
    {
     "data": {
      "image/png": "[encoded data removed]",
      "text/plain": [
       "<Figure size 1200x800 with 1 Axes>"
      ]
     },
     "metadata": {},
     "output_type": "display_data"
    }
   ],
   "source": [
    "# plot losses\n",
    "plt.subplots(figsize=(12, 8))\n",
    "sns.set_style(\"dark\")\n",
    "sns.lineplot(data=val_losses,label=\"Validation Loss\")\n",
    "sns.lineplot(data=np.asarray(train_losses)/1000,label=\"Train Loss\").set(title=\"loss change during training\", xlabel=\"epoch\", ylabel=\"loss\")\n",
    "plt.legend()\n",
    "plt.show()"
   ]
  },
  {
   "cell_type": "markdown",
   "metadata": {
    "id": "5fvHlCSjK5Nk",
    "papermill": {
     "duration": 0.035134,
     "end_time": "2020-11-06T00:19:25.651361",
     "exception": false,
     "start_time": "2020-11-06T00:19:25.616227",
     "status": "completed"
    },
    "tags": []
   },
   "source": [
    "# Prediction on Test Data"
   ]
  },
  {
   "cell_type": "code",
   "execution_count": 150,
   "metadata": {
    "id": "Apy7kcRI3-ei"
   },
   "outputs": [],
   "source": [
    "def predict(images, model):\n",
    "    model.eval() \n",
    "    with torch.no_grad(): \n",
    "        images = images.to(device) \n",
    "        predictions = model(images) \n",
    "        predicted_classes = torch.argmax(predictions, dim=1)\n",
    "    return predicted_classes"
   ]
  },
  {
   "cell_type": "markdown",
   "metadata": {
    "id": "-4B6q4vC39ry"
   },
   "source": [
    "**Accuracy Result on Test Data**"
   ]
  },
  {
   "cell_type": "code",
   "execution_count": 151,
   "metadata": {
    "execution": {
     "iopub.execute_input": "2020-11-06T00:19:26.514739Z",
     "iopub.status.busy": "2020-11-06T00:19:26.513979Z",
     "iopub.status.idle": "2020-11-06T00:19:31.836462Z",
     "shell.execute_reply": "2020-11-06T00:19:31.837205Z"
    },
    "id": "N_QdkLveK5No",
    "papermill": {
     "duration": 5.37107,
     "end_time": "2020-11-06T00:19:31.837359",
     "exception": false,
     "start_time": "2020-11-06T00:19:26.466289",
     "status": "completed"
    },
    "tags": []
   },
   "outputs": [
    {
     "name": "stdout",
     "output_type": "stream",
     "text": [
      "Accuracy of the network on the 10000 test images: 83 %\n"
     ]
    }
   ],
   "source": [
    "correct = 0\n",
    "total = 0\n",
    "y_pred_list = []\n",
    "y_true_list = []\n",
    "with torch.no_grad():\n",
    "    for data in test_dataloader:\n",
    "        \n",
    "        \n",
    "#################################################################################\n",
    "#                          COMPLETE THE FOLLOWING SECTION                       #\n",
    "#################################################################################\n",
    "        #Your Code Here\n",
    "        images, labels = data\n",
    "        images = images.to(device)\n",
    "        labels = labels.to(device)\n",
    "\n",
    "        outputs = cnn_model(images)\n",
    "        _, predicted = torch.max(outputs.data, 1)\n",
    "\n",
    "        total += labels.size(0)\n",
    "        correct += (predicted == labels).sum().item()\n",
    "\n",
    "#################################################################################\n",
    "#                                   THE END                                     #\n",
    "#################################################################################   \n",
    "        for  x in predicted.cpu().numpy(): y_pred_list.append(x)\n",
    "        for  x in labels.cpu().numpy(): y_true_list.append(x)\n",
    "\n",
    "print('Accuracy of the network on the 10000 test images: %d %%' % (100 * correct / total))"
   ]
  },
  {
   "cell_type": "markdown",
   "metadata": {
    "id": "D8b8n56jK5No",
    "papermill": {
     "duration": 0.047911,
     "end_time": "2020-11-06T00:19:31.934242",
     "exception": false,
     "start_time": "2020-11-06T00:19:31.886331",
     "status": "completed"
    },
    "tags": []
   },
   "source": [
    "**Classification report**"
   ]
  },
  {
   "cell_type": "code",
   "execution_count": 152,
   "metadata": {
    "id": "pXpTYXeOdE10"
   },
   "outputs": [
    {
     "name": "stdout",
     "output_type": "stream",
     "text": [
      "              precision    recall  f1-score   support\n",
      "\n",
      " T-shirt/top       0.72      0.87      0.79      1000\n",
      "     Trouser       0.99      0.95      0.97      1000\n",
      "    Pullover       0.80      0.70      0.75      1000\n",
      "       Dress       0.87      0.87      0.87      1000\n",
      "        Coat       0.66      0.80      0.72      1000\n",
      "      Sandal       0.98      0.90      0.94      1000\n",
      "       Shirt       0.61      0.41      0.49      1000\n",
      "     Sneaker       0.88      0.97      0.92      1000\n",
      "         Bag       0.90      0.98      0.94      1000\n",
      "  Ankle boot       0.95      0.93      0.94      1000\n",
      "\n",
      "    accuracy                           0.84     10000\n",
      "   macro avg       0.84      0.84      0.83     10000\n",
      "weighted avg       0.84      0.84      0.83     10000\n",
      "\n"
     ]
    }
   ],
   "source": [
    "print(classification_report(y_true_list, y_pred_list, target_names=classes))"
   ]
  },
  {
   "cell_type": "markdown",
   "metadata": {
    "id": "L5-11WQI2_em"
   },
   "source": [
    "**Displaying a random set of images from test data**"
   ]
  },
  {
   "cell_type": "code",
   "execution_count": 153,
   "metadata": {
    "id": "rVr_w4_80rJI"
   },
   "outputs": [
    {
     "data": {
      "image/png": "[encoded data removed]",
      "text/plain": [
       "<Figure size 1500x700 with 15 Axes>"
      ]
     },
     "metadata": {},
     "output_type": "display_data"
    }
   ],
   "source": [
    "dataiter = iter(test_dataloader)\n",
    "images, labels = next(dataiter)\n",
    "predicted=predict(images,cnn_model)\n",
    "\n",
    "fig, axes = plt.subplots(nrows=3, ncols=5, figsize=(15, 7), subplot_kw={'xticks': [], 'yticks': []})\n",
    "for i,ax in zip(range(0,16),axes.flat):\n",
    "    img,label=images[i],labels[i]\n",
    "    pred=predicted[i]\n",
    "    ax.imshow(img.permute(1, 2, 0))\n",
    "    ax.set_title(f\"True: {classes[label]}\\n Predicted: {classes[pred]}\")\n",
    "\n",
    "plt.tight_layout()\n",
    "plt.show()"
   ]
  },
  {
   "cell_type": "code",
   "execution_count": null,
   "metadata": {},
   "outputs": [],
   "source": []
  }
 ],
 "metadata": {
  "accelerator": "GPU",
  "colab": {
   "provenance": []
  },
  "gpuClass": "standard",
  "kernelspec": {
   "display_name": "Python 3 (ipykernel)",
   "language": "python",
   "name": "python3"
  },
  "language_info": {
   "codemirror_mode": {
    "name": "ipython",
    "version": 3
   },
   "file_extension": ".py",
   "mimetype": "text/x-python",
   "name": "python",
   "nbconvert_exporter": "python",
   "pygments_lexer": "ipython3",
   "version": "3.9.16"
  },
  "papermill": {
   "duration": 247.72117,
   "end_time": "2020-11-06T00:19:37.463107",
   "environment_variables": {},
   "exception": null,
   "input_path": "__notebook__.ipynb",
   "output_path": "__notebook__.ipynb",
   "parameters": {},
   "start_time": "2020-11-06T00:15:29.741937",
   "version": "2.1.0"
  }
 },
 "nbformat": 4,
 "nbformat_minor": 1
}
