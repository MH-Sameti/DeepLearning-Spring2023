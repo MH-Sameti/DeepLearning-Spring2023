{
  "cells": [
    {
      "cell_type": "markdown",
      "source": [
        "# **Description**\n",
        "In this notebook you will firstly train a CNN on cifar10 dataset. The CNN architecture is provided in ``` resnet.py ```. Then you are going to immplement targeted and untargeted FGSM attack and also $l_{∞}$-PGD attack, and evaluate the performance of the trained model on the adversarial data.\n",
        "\n",
        "\n",
        "**Attention!** Make sure you do not miss the questions asked at the end of the notebook.\n",
        "\n",
        "\n",
        "\n",
        "\n"
      ],
      "metadata": {
        "id": "LlvJfPxRSP9D"
      }
    },
    {
      "cell_type": "markdown",
      "source": [
        "Name: Mohammad Hossein Sameti\n",
        "\n",
        "Student ID: 401204932"
      ],
      "metadata": {
        "id": "5t--rmHfULt0"
      }
    },
    {
      "cell_type": "markdown",
      "metadata": {
        "id": "PTvKkL8C3TGI"
      },
      "source": [
        "#**Setups**"
      ]
    },
    {
      "cell_type": "code",
      "execution_count": 7,
      "metadata": {
        "cellView": "code",
        "colab": {
          "base_uri": "https://localhost:8080/"
        },
        "id": "dF8zbANmutFx",
        "outputId": "65d25923-1f84-486c-b2e9-c2537a483108"
      },
      "outputs": [
        {
          "output_type": "stream",
          "name": "stdout",
          "text": [
            "Drive already mounted at /content/drive; to attempt to forcibly remount, call drive.mount(\"/content/drive\", force_remount=True).\n"
          ]
        }
      ],
      "source": [
        "from google.colab import drive\n",
        "drive.mount('/content/drive')"
      ]
    },
    {
      "cell_type": "code",
      "execution_count": 8,
      "metadata": {
        "id": "TWoN53mi80jY"
      },
      "outputs": [],
      "source": [
        "#feel free to change the path if needed\n",
        "\n",
        "!cd '/content/drive/MyDrive/DL_HW5'"
      ]
    },
    {
      "cell_type": "code",
      "execution_count": 1,
      "metadata": {
        "id": "OGuslJ_e_Hlg"
      },
      "outputs": [],
      "source": [
        "import torch\n",
        "import torch.nn as nn\n",
        "import torch.optim as optim\n",
        "import torch.nn.functional as F\n",
        "import torch.backends.cudnn as cudnn\n",
        "\n",
        "import torchvision\n",
        "import torchvision.transforms as transforms\n",
        "\n",
        "import os\n",
        "import argparse\n",
        "import matplotlib.pyplot as plt\n",
        "import numpy as np\n",
        "\n",
        "from resnet import *"
      ]
    },
    {
      "cell_type": "code",
      "execution_count": 2,
      "metadata": {
        "id": "kMJqAx798x5c"
      },
      "outputs": [],
      "source": [
        "device = 'cuda' if torch.cuda.is_available() else 'cpu'"
      ]
    },
    {
      "cell_type": "code",
      "source": [
        "'''\n",
        "These are the default values for variables, these should work, but if needed, you are allowed to change these parameters.\n",
        "'''\n",
        "\n",
        "batch_size = 128\n",
        "lr = 1e-3\n",
        "epochs = 100"
      ],
      "metadata": {
        "id": "xmr1-O7F8GeB"
      },
      "execution_count": 3,
      "outputs": []
    },
    {
      "cell_type": "markdown",
      "source": [
        "#**Data Preparation (5 pts)**\n",
        "Use cifar10 dataset provided in torchvision and create train and test dataloaders according to the given transformations."
      ],
      "metadata": {
        "id": "-j3SQFaQSCJX"
      }
    },
    {
      "cell_type": "code",
      "execution_count": 4,
      "metadata": {
        "colab": {
          "base_uri": "https://localhost:8080/"
        },
        "id": "pBNfOkMr92S3",
        "outputId": "0a0ad14f-877c-4a22-c8ce-d0a788bb6cd1"
      },
      "outputs": [
        {
          "output_type": "stream",
          "name": "stdout",
          "text": [
            "==> Preparing data..\n",
            "Files already downloaded and verified\n",
            "Files already downloaded and verified\n"
          ]
        }
      ],
      "source": [
        "print('==> Preparing data..')\n",
        "\n",
        "transform_train = transforms.Compose([\n",
        "    transforms.RandomCrop(32, padding=4),\n",
        "    transforms.RandomHorizontalFlip(),\n",
        "    transforms.ToTensor(),\n",
        "    transforms.Normalize((0.4914, 0.4822, 0.4465), (0.2023, 0.1994, 0.2010)),\n",
        "])\n",
        "\n",
        "transform_test = transforms.Compose([\n",
        "    transforms.ToTensor(),\n",
        "    transforms.Normalize((0.4914, 0.4822, 0.4465), (0.2023, 0.1994, 0.2010)),\n",
        "])\n",
        "\n",
        "\n",
        "###################################################\n",
        "#prepare training and test datasets and loaders   #\n",
        "###################################################\n",
        "\n",
        "\n",
        "\n",
        "######################\n",
        "# Your code goes here\n",
        "from torch.utils.data import DataLoader\n",
        "TRAIN_DATASET = torchvision.datasets.CIFAR10(root='data', train=True, download=True, transform=transform_train)\n",
        "TEST_DATASET = torchvision.datasets.CIFAR10(root='data', train=False, download=True, transform=transform_test)\n",
        "train_loader = DataLoader(\n",
        "    TRAIN_DATASET,\n",
        "    batch_size=batch_size,\n",
        "    shuffle=True)\n",
        "\n",
        "test_loader = DataLoader(\n",
        "    TEST_DATASET,\n",
        "    batch_size=batch_size,\n",
        "    )\n",
        "\n",
        "\n",
        "classes = ('plane', 'car', 'bird', 'cat', 'deer',\n",
        "           'dog', 'frog', 'horse', 'ship', 'truck')"
      ]
    },
    {
      "cell_type": "markdown",
      "source": [
        "#**Building The Model**"
      ],
      "metadata": {
        "id": "qaOM_JYFUlF8"
      }
    },
    {
      "cell_type": "code",
      "source": [
        "########################################\n",
        "#build your model                      #\n",
        "########################################\n",
        "print('==> Building model..')\n",
        "net = ResNet18()\n",
        "net = net.to(device)\n",
        "\n",
        "if device == 'cuda':\n",
        "    net = torch.nn.DataParallel(net)\n",
        "    cudnn.benchmark = True\n",
        "\n",
        "optimizer = optim.SGD(net.parameters(), lr=lr, momentum=0.9)"
      ],
      "metadata": {
        "id": "6zjkk49HUkXB",
        "colab": {
          "base_uri": "https://localhost:8080/"
        },
        "outputId": "47c60848-9891-4993-cc67-e17a835bcff2"
      },
      "execution_count": 9,
      "outputs": [
        {
          "output_type": "stream",
          "name": "stdout",
          "text": [
            "==> Building model..\n"
          ]
        }
      ]
    },
    {
      "cell_type": "markdown",
      "source": [
        "#**Training and Evaluating The Model (5 pts)**"
      ],
      "metadata": {
        "id": "i0JFoNGBUxdd"
      }
    },
    {
      "cell_type": "code",
      "execution_count": 5,
      "metadata": {
        "id": "OOLoVjk087ek"
      },
      "outputs": [],
      "source": [
        "# Training\n",
        "def train(epoch, net, optimizer, trainloader):\n",
        "    print('\\nEpoch: %d' % epoch)\n",
        "    net.train()\n",
        "    criterion = nn.CrossEntropyLoss()\n",
        "\n",
        "    train_loss = 0\n",
        "    correct = 0\n",
        "    total = 0\n",
        "    for batch_idx, (inputs, targets) in enumerate(train_loader):\n",
        "        inputs, targets = inputs.to(device), targets.to(device)\n",
        "        optimizer.zero_grad()\n",
        "        outputs = net(inputs)\n",
        "        loss = criterion(outputs, targets)\n",
        "        loss.backward()\n",
        "        optimizer.step()\n",
        "\n",
        "        train_loss += loss.item()\n",
        "        _, predicted = outputs.max(1)\n",
        "        total += targets.size(0)\n",
        "        correct += predicted.eq(targets).sum().item()\n",
        "\n",
        "    return train_loss/len(trainloader), 100*correct/total\n",
        "\n",
        "\n",
        "def test(epoch, net, testloader):\n",
        "    net.eval()\n",
        "    criterion = nn.CrossEntropyLoss()\n",
        "\n",
        "    test_loss = 0\n",
        "    correct = 0\n",
        "    total = 0\n",
        "    with torch.no_grad():\n",
        "        for batch_idx, (inputs, targets) in enumerate(test_loader):\n",
        "            inputs, targets = inputs.to(device), targets.to(device)\n",
        "            outputs = net(inputs)\n",
        "            loss = criterion(outputs, targets)\n",
        "\n",
        "            test_loss += loss.item()\n",
        "            _, predicted = outputs.max(1)\n",
        "            total += targets.size(0)\n",
        "            correct += predicted.eq(targets).sum().item()\n",
        "\n",
        "    return test_loss/len(testloader), 100 * correct / total"
      ]
    },
    {
      "cell_type": "code",
      "execution_count": 10,
      "metadata": {
        "id": "8Y7DHygJ83e8",
        "colab": {
          "base_uri": "https://localhost:8080/"
        },
        "outputId": "88eae417-ad4e-47d5-bec4-9a5251fb592e"
      },
      "outputs": [
        {
          "output_type": "stream",
          "name": "stdout",
          "text": [
            "\n",
            "Epoch: 0\n",
            "\n",
            "Epoch: 1\n",
            "\n",
            "Epoch: 2\n",
            "\n",
            "Epoch: 3\n",
            "\n",
            "Epoch: 4\n"
          ]
        }
      ],
      "source": [
        "######################################################################\n",
        "#train your model, make sure to save loss and accuracy in all epochs #\n",
        "######################################################################\n",
        "\n",
        "######################\n",
        "# Your code goes here\n",
        "\n",
        "train_loss= []\n",
        "test_loss= []\n",
        "train_acc = []\n",
        "test_acc = []\n",
        "for epoch in range(5):\n",
        "    train_l, train_a = train(epoch, net, optimizer, train_loader)\n",
        "    test_l, test_a = test(epoch, net, test_loader)\n",
        "    train_loss.append(train_l)\n",
        "    train_acc.append(train_a)\n",
        "    test_loss.append(test_l)\n",
        "    test_acc.append(test_a)\n"
      ]
    },
    {
      "cell_type": "code",
      "execution_count": 11,
      "metadata": {
        "id": "kg-IZNW_gB2Z"
      },
      "outputs": [],
      "source": [
        "########################################\n",
        "#save your model and history           #\n",
        "########################################\n",
        "\n",
        "\n",
        "######################\n",
        "# Your code goes here\n",
        "\n",
        "torch.save(net.state_dict(), '/content/drive/MyDrive/DL_HW5/model.torch')"
      ]
    },
    {
      "cell_type": "markdown",
      "source": [
        "##**Train and Test Loss and Accuracy Plots**"
      ],
      "metadata": {
        "id": "-xsrwlrLU_jE"
      }
    },
    {
      "cell_type": "code",
      "source": [
        "#############################################################\n",
        "#plot train and test loss and accuracy dusring the training #\n",
        "#############################################################\n",
        "fig, ax = plt.subplots(2,2, figsize=(6,3), layout=\"constrained\")\n",
        "ax[0,0].plot(train_loss)\n",
        "ax[0,0].set_title('train loss')\n",
        "ax[0,1].plot(test_loss)\n",
        "ax[0,1].set_title('test loss')\n",
        "ax[1,0].plot(train_acc)\n",
        "ax[1,0].set_title('train accuracy')\n",
        "ax[1,1].plot(test_acc)\n",
        "ax[1,1].set_title('test accuracy')\n",
        "\n",
        "######################\n",
        "# Your code goes here"
      ],
      "metadata": {
        "id": "HWaW89Sj9R4g",
        "colab": {
          "base_uri": "https://localhost:8080/",
          "height": 346
        },
        "outputId": "bc618487-3279-4047-acca-c13914a80962"
      },
      "execution_count": 12,
      "outputs": [
        {
          "output_type": "execute_result",
          "data": {
            "text/plain": [
              "Text(0.5, 1.0, 'test accuracy')"
            ]
          },
          "metadata": {},
          "execution_count": 12
        },
        {
          "output_type": "display_data",
          "data": {
            "text/plain": [
              "<Figure size 600x300 with 4 Axes>"
            ],
            "image/png": "[encoded data removed]"
          },
          "metadata": {}
        }
      ]
    },
    {
      "cell_type": "markdown",
      "metadata": {
        "direction": "rtl",
        "id": "IUfvVGWx3TGM"
      },
      "source": [
        "#**FGSM Attack (45 pts)**\n",
        "In this section you must implement targeted and untargeted FGSM attack and evalute the trained model performance on the adversarial data.[link text](https://)"
      ]
    },
    {
      "cell_type": "markdown",
      "source": [
        "##**Untargeted FGSM Attack**"
      ],
      "metadata": {
        "id": "VDhwjK4OVohn"
      }
    },
    {
      "cell_type": "code",
      "execution_count": 13,
      "metadata": {
        "id": "8XbNsfxGhry6"
      },
      "outputs": [],
      "source": [
        "########################################\n",
        "#define untargeted FGSM attack         #\n",
        "########################################\n",
        "\n",
        "def FGSM (model, x, y, epsilon):\n",
        "  \"\"\"\n",
        "  inputs:\n",
        "    model: model to be attacked\n",
        "    x: input image\n",
        "    y: label\n",
        "    epsilon: clipping threshold for FGSM\n",
        "\n",
        "  outputs:\n",
        "    x': the perturbed image\n",
        "    delta: the added perturbation\n",
        "    y': prediction of the model for the perturbed input\n",
        "  \"\"\"\n",
        "  delta = None\n",
        "  ######################\n",
        "  # Your code goes here\n",
        "  loss = torch.nn.CrossEntropyLoss()\n",
        "  xin = x.data\n",
        "  xin.requires_grad = True\n",
        "  y_hat = model(xin)\n",
        "  cost = loss(y_hat, y)\n",
        "  model.zero_grad()\n",
        "  cost.backward()\n",
        "  delta = epsilon * xin.grad.detach().sign()\n",
        "\n",
        "\n",
        "  return x+delta, delta, model(x+delta)"
      ]
    },
    {
      "cell_type": "markdown",
      "source": [
        "###**Evaluation**\n"
      ],
      "metadata": {
        "id": "1iocJ42FbTPE"
      }
    },
    {
      "cell_type": "markdown",
      "source": [
        " For $\\epsilon \\in \\{\\frac{1}{255}, \\frac{4}{255}, \\frac{8}{255},\\}$ report the performance of the model on targeted FGSM attack on the test data."
      ],
      "metadata": {
        "id": "KCtIVJ7ybo2G"
      }
    },
    {
      "cell_type": "code",
      "source": [
        "######################\n",
        "# Your code goes here\n",
        "epsilon = [1/255, 4/255, 8/255]\n",
        "criterion = nn.CrossEntropyLoss()\n",
        "\n",
        "for eps in epsilon:\n",
        "  correct = 0\n",
        "  total = 0\n",
        "  for (inputs, targets) in test_loader:\n",
        "    inputs, targets = inputs.to(device), targets.to(device)\n",
        "    fgsm_outputs = FGSM(net, inputs, targets, eps)[2]\n",
        "    _, predicted = fgsm_outputs.max(1)\n",
        "    total += targets.size(0)\n",
        "    correct += predicted.eq(targets).sum().item()\n",
        "\n",
        "  print(f'epsilon = {eps} accuracy = {100 * correct / total}')"
      ],
      "metadata": {
        "id": "RWM6pCKibm1j",
        "colab": {
          "base_uri": "https://localhost:8080/"
        },
        "outputId": "eabf582f-cef4-4c48-9c77-d67d2720e5ca"
      },
      "execution_count": 14,
      "outputs": [
        {
          "output_type": "stream",
          "name": "stdout",
          "text": [
            "epsilon = 0.00392156862745098 accuracy = 69.17\n",
            "epsilon = 0.01568627450980392 accuracy = 54.44\n",
            "epsilon = 0.03137254901960784 accuracy = 37.74\n"
          ]
        }
      ]
    },
    {
      "cell_type": "markdown",
      "source": [
        "###**FGSM by gradually increasing $ϵ$**"
      ],
      "metadata": {
        "id": "540xuXsTbvwd"
      }
    },
    {
      "cell_type": "markdown",
      "source": [
        "FGSM attack may not work for small $\\epsilon$, on the other hand we want to alter image as insignificant as possible, so here is what we do, we start from $\\epsilon = \\frac{1}{255}$ and if the attack was unsuccessful, we increase $\\epsilon$ by $\\frac{1}{255}$. The procedure goes on until the predicted label is different from the ground truth."
      ],
      "metadata": {
        "id": "4Y6-jilKW1mo"
      }
    },
    {
      "cell_type": "code",
      "execution_count": 15,
      "metadata": {
        "id": "96PZLzYn8AYd"
      },
      "outputs": [],
      "source": [
        "#######################################################\n",
        "#increase epsilon gradually till the label is changed. The function can be implemented recursively.#\n",
        "#######################################################\n",
        "\n",
        "def generate_adversarial_FGSM (model, x, label, initial_epsilon=1/255):\n",
        "  \"\"\"\n",
        "  inputs:\n",
        "    model: model to be attacked\n",
        "    x: input image\n",
        "    y: label\n",
        "    epsilon: intial clipping threshold for FGSM\n",
        "\n",
        "  outputs:\n",
        "    epsilon: the epsilon that flips the label.\n",
        "    delta: the added perturbation\n",
        "    y': prediction of the model for the perturbed input\n",
        "  \"\"\"\n",
        "\n",
        "\n",
        "\n",
        "  ######################\n",
        "  # Your code goes here\n",
        "  while True:\n",
        "    x_adv, delta, y_adv = FGSM(model, x.unsqueeze(0), label, initial_epsilon)\n",
        "\n",
        "    _, FGSM_OUT = y_adv.max(1)\n",
        "    if FGSM_OUT == label:\n",
        "      initial_epsilon += 1/255\n",
        "    else:\n",
        "      break\n",
        "\n",
        "  return initial_epsilon, delta, y_adv\n"
      ]
    },
    {
      "cell_type": "markdown",
      "metadata": {
        "id": "s29e791J9F0V"
      },
      "source": [
        "### **Visualization**\n",
        "Pick 10 samples from cifar10 test set, each from one class, make sure the selected samples are classified correctly. Plot these samples. Take note that the selected data must not be transformed by train or test transformations while visualisation."
      ]
    },
    {
      "cell_type": "code",
      "execution_count": 6,
      "metadata": {
        "id": "dEnJ2Vz2j8Zt",
        "colab": {
          "base_uri": "https://localhost:8080/",
          "height": 1000
        },
        "outputId": "044e515b-4f7b-40b8-80b0-32703506e0fc"
      },
      "outputs": [
        {
          "output_type": "stream",
          "name": "stderr",
          "text": [
            "WARNING:matplotlib.image:Clipping input data to the valid range for imshow with RGB data ([0..1] for floats or [0..255] for integers).\n"
          ]
        },
        {
          "output_type": "stream",
          "name": "stdout",
          "text": [
            "a\n",
            "Label = 0\n"
          ]
        },
        {
          "output_type": "display_data",
          "data": {
            "text/plain": [
              "<Figure size 200x200 with 1 Axes>"
            ],
            "image/png": "[encoded data removed]"
          },
          "metadata": {}
        },
        {
          "output_type": "stream",
          "name": "stderr",
          "text": [
            "WARNING:matplotlib.image:Clipping input data to the valid range for imshow with RGB data ([0..1] for floats or [0..255] for integers).\n"
          ]
        },
        {
          "output_type": "stream",
          "name": "stdout",
          "text": [
            "Label = 1\n"
          ]
        },
        {
          "output_type": "display_data",
          "data": {
            "text/plain": [
              "<Figure size 200x200 with 1 Axes>"
            ],
            "image/png": "[encoded data removed]"
          },
          "metadata": {}
        },
        {
          "output_type": "stream",
          "name": "stderr",
          "text": [
            "WARNING:matplotlib.image:Clipping input data to the valid range for imshow with RGB data ([0..1] for floats or [0..255] for integers).\n"
          ]
        },
        {
          "output_type": "stream",
          "name": "stdout",
          "text": [
            "Label = 2\n"
          ]
        },
        {
          "output_type": "display_data",
          "data": {
            "text/plain": [
              "<Figure size 200x200 with 1 Axes>"
            ],
            "image/png": "[encoded data removed]"
          },
          "metadata": {}
        },
        {
          "output_type": "stream",
          "name": "stderr",
          "text": [
            "WARNING:matplotlib.image:Clipping input data to the valid range for imshow with RGB data ([0..1] for floats or [0..255] for integers).\n"
          ]
        },
        {
          "output_type": "stream",
          "name": "stdout",
          "text": [
            "Label = 3\n"
          ]
        },
        {
          "output_type": "display_data",
          "data": {
            "text/plain": [
              "<Figure size 200x200 with 1 Axes>"
            ],
            "image/png": "[encoded data removed]"
          },
          "metadata": {}
        },
        {
          "output_type": "stream",
          "name": "stderr",
          "text": [
            "WARNING:matplotlib.image:Clipping input data to the valid range for imshow with RGB data ([0..1] for floats or [0..255] for integers).\n"
          ]
        },
        {
          "output_type": "stream",
          "name": "stdout",
          "text": [
            "Label = 4\n"
          ]
        },
        {
          "output_type": "display_data",
          "data": {
            "text/plain": [
              "<Figure size 200x200 with 1 Axes>"
            ],
            "image/png": "[encoded data removed]"
          },
          "metadata": {}
        },
        {
          "output_type": "stream",
          "name": "stderr",
          "text": [
            "WARNING:matplotlib.image:Clipping input data to the valid range for imshow with RGB data ([0..1] for floats or [0..255] for integers).\n"
          ]
        },
        {
          "output_type": "stream",
          "name": "stdout",
          "text": [
            "Label = 5\n"
          ]
        },
        {
          "output_type": "display_data",
          "data": {
            "text/plain": [
              "<Figure size 200x200 with 1 Axes>"
            ],
            "image/png": "[encoded data removed]"
          },
          "metadata": {}
        },
        {
          "output_type": "stream",
          "name": "stderr",
          "text": [
            "WARNING:matplotlib.image:Clipping input data to the valid range for imshow with RGB data ([0..1] for floats or [0..255] for integers).\n"
          ]
        },
        {
          "output_type": "stream",
          "name": "stdout",
          "text": [
            "Label = 6\n"
          ]
        },
        {
          "output_type": "display_data",
          "data": {
            "text/plain": [
              "<Figure size 200x200 with 1 Axes>"
            ],
            "image/png": "[encoded data removed]"
          },
          "metadata": {}
        },
        {
          "output_type": "stream",
          "name": "stderr",
          "text": [
            "WARNING:matplotlib.image:Clipping input data to the valid range for imshow with RGB data ([0..1] for floats or [0..255] for integers).\n"
          ]
        },
        {
          "output_type": "stream",
          "name": "stdout",
          "text": [
            "Label = 7\n"
          ]
        },
        {
          "output_type": "display_data",
          "data": {
            "text/plain": [
              "<Figure size 200x200 with 1 Axes>"
            ],
            "image/png": "[encoded data removed]"
          },
          "metadata": {}
        },
        {
          "output_type": "stream",
          "name": "stdout",
          "text": [
            "Label = 8\n"
          ]
        },
        {
          "output_type": "stream",
          "name": "stderr",
          "text": [
            "WARNING:matplotlib.image:Clipping input data to the valid range for imshow with RGB data ([0..1] for floats or [0..255] for integers).\n"
          ]
        },
        {
          "output_type": "display_data",
          "data": {
            "text/plain": [
              "<Figure size 200x200 with 1 Axes>"
            ],
            "image/png": "[encoded data removed]"
          },
          "metadata": {}
        },
        {
          "output_type": "stream",
          "name": "stdout",
          "text": [
            "Label = 9\n"
          ]
        },
        {
          "output_type": "stream",
          "name": "stderr",
          "text": [
            "WARNING:matplotlib.image:Clipping input data to the valid range for imshow with RGB data ([0..1] for floats or [0..255] for integers).\n"
          ]
        },
        {
          "output_type": "display_data",
          "data": {
            "text/plain": [
              "<Figure size 200x200 with 1 Axes>"
            ],
            "image/png": "[encoded data removed]"
          },
          "metadata": {}
        }
      ],
      "source": [
        "#############################################################################################\n",
        "#visualize one test sample from each class and make sure that they are correctly labeled.   #\n",
        "#save index of these samples, since they are needed in the following sections.              #\n",
        "#############################################################################################\n",
        "\n",
        "def imshow(img, s):\n",
        "    img = img / 2 + 0.5     # unnormalize\n",
        "    npimg = img.numpy()\n",
        "    plt.figure(figsize=(s,s))\n",
        "    plt.imshow(np.transpose(npimg, (1, 2, 0)))\n",
        "    plt.axis('off')\n",
        "    plt.show()\n",
        "\n",
        "\n",
        "\n",
        "\n",
        "\n",
        "#######################\n",
        "# Your code goes here\n",
        "batch_x, batch_y = next(iter(test_loader))\n",
        "image_index = np.zeros(10)\n",
        "print('a')\n",
        "for i, j in enumerate(batch_y):\n",
        "  image_index[j] = int(i)\n",
        "images = []\n",
        "for j, i in enumerate(image_index):\n",
        "  print(f'Label = {j}')\n",
        "\n",
        "  imshow(batch_x[int(i)], 2)\n",
        "\n"
      ]
    },
    {
      "cell_type": "markdown",
      "metadata": {
        "id": "EwMfircn3TGO"
      },
      "source": [
        "Now, apply untargetted FGSM attack ``` generate_adversarial_FGSM ``` on the selected samples. Visualize the original image, the perturbed image, and the perturbation. since the perturbation is imperceptible, magnify it by the value of $\\frac{1}{\\epsilon}$ before visualization."
      ]
    },
    {
      "cell_type": "code",
      "execution_count": 16,
      "metadata": {
        "id": "5MmdiqTj7X_y",
        "colab": {
          "base_uri": "https://localhost:8080/",
          "height": 1000
        },
        "outputId": "16f57889-8fcd-435a-ab05-88acf7dbaf64"
      },
      "outputs": [
        {
          "output_type": "stream",
          "name": "stderr",
          "text": [
            "/usr/local/lib/python3.10/dist-packages/torch/nn/parallel/comm.py:231: UserWarning: Using -1 to represent CPU tensor is deprecated. Please use a device object or string instead, e.g., \"cpu\".\n",
            "  warnings.warn(\n",
            "WARNING:matplotlib.image:Clipping input data to the valid range for imshow with RGB data ([0..1] for floats or [0..255] for integers).\n"
          ]
        },
        {
          "output_type": "stream",
          "name": "stdout",
          "text": [
            "True Label is 0 But model predict 1\n"
          ]
        },
        {
          "output_type": "display_data",
          "data": {
            "text/plain": [
              "<Figure size 500x500 with 1 Axes>"
            ],
            "image/png": "[encoded data removed]"
          },
          "metadata": {}
        },
        {
          "output_type": "stream",
          "name": "stderr",
          "text": [
            "WARNING:matplotlib.image:Clipping input data to the valid range for imshow with RGB data ([0..1] for floats or [0..255] for integers).\n"
          ]
        },
        {
          "output_type": "stream",
          "name": "stdout",
          "text": [
            "True Label is 1 But model predict 9\n"
          ]
        },
        {
          "output_type": "display_data",
          "data": {
            "text/plain": [
              "<Figure size 500x500 with 1 Axes>"
            ],
            "image/png": "[encoded data removed]"
          },
          "metadata": {}
        },
        {
          "output_type": "stream",
          "name": "stderr",
          "text": [
            "WARNING:matplotlib.image:Clipping input data to the valid range for imshow with RGB data ([0..1] for floats or [0..255] for integers).\n"
          ]
        },
        {
          "output_type": "stream",
          "name": "stdout",
          "text": [
            "True Label is 2 But model predict 5\n"
          ]
        },
        {
          "output_type": "display_data",
          "data": {
            "text/plain": [
              "<Figure size 500x500 with 1 Axes>"
            ],
            "image/png": "[encoded data removed]"
          },
          "metadata": {}
        },
        {
          "output_type": "stream",
          "name": "stderr",
          "text": [
            "WARNING:matplotlib.image:Clipping input data to the valid range for imshow with RGB data ([0..1] for floats or [0..255] for integers).\n"
          ]
        },
        {
          "output_type": "stream",
          "name": "stdout",
          "text": [
            "True Label is 3 But model predict 5\n"
          ]
        },
        {
          "output_type": "display_data",
          "data": {
            "text/plain": [
              "<Figure size 500x500 with 1 Axes>"
            ],
            "image/png": "[encoded data removed]"
          },
          "metadata": {}
        },
        {
          "output_type": "stream",
          "name": "stderr",
          "text": [
            "WARNING:matplotlib.image:Clipping input data to the valid range for imshow with RGB data ([0..1] for floats or [0..255] for integers).\n"
          ]
        },
        {
          "output_type": "stream",
          "name": "stdout",
          "text": [
            "True Label is 4 But model predict 7\n"
          ]
        },
        {
          "output_type": "display_data",
          "data": {
            "text/plain": [
              "<Figure size 500x500 with 1 Axes>"
            ],
            "image/png": "[encoded data removed]"
          },
          "metadata": {}
        },
        {
          "output_type": "stream",
          "name": "stderr",
          "text": [
            "WARNING:matplotlib.image:Clipping input data to the valid range for imshow with RGB data ([0..1] for floats or [0..255] for integers).\n"
          ]
        },
        {
          "output_type": "stream",
          "name": "stdout",
          "text": [
            "True Label is 5 But model predict 4\n"
          ]
        },
        {
          "output_type": "display_data",
          "data": {
            "text/plain": [
              "<Figure size 500x500 with 1 Axes>"
            ],
            "image/png": "[encoded data removed]"
          },
          "metadata": {}
        },
        {
          "output_type": "stream",
          "name": "stderr",
          "text": [
            "WARNING:matplotlib.image:Clipping input data to the valid range for imshow with RGB data ([0..1] for floats or [0..255] for integers).\n"
          ]
        },
        {
          "output_type": "stream",
          "name": "stdout",
          "text": [
            "True Label is 6 But model predict 2\n"
          ]
        },
        {
          "output_type": "display_data",
          "data": {
            "text/plain": [
              "<Figure size 500x500 with 1 Axes>"
            ],
            "image/png": "[encoded data removed]"
          },
          "metadata": {}
        },
        {
          "output_type": "stream",
          "name": "stderr",
          "text": [
            "WARNING:matplotlib.image:Clipping input data to the valid range for imshow with RGB data ([0..1] for floats or [0..255] for integers).\n"
          ]
        },
        {
          "output_type": "stream",
          "name": "stdout",
          "text": [
            "True Label is 7 But model predict 5\n"
          ]
        },
        {
          "output_type": "display_data",
          "data": {
            "text/plain": [
              "<Figure size 500x500 with 1 Axes>"
            ],
            "image/png": "[encoded data removed]"
          },
          "metadata": {}
        },
        {
          "output_type": "stream",
          "name": "stdout",
          "text": [
            "True Label is 8 But model predict 2\n"
          ]
        },
        {
          "output_type": "stream",
          "name": "stderr",
          "text": [
            "WARNING:matplotlib.image:Clipping input data to the valid range for imshow with RGB data ([0..1] for floats or [0..255] for integers).\n"
          ]
        },
        {
          "output_type": "display_data",
          "data": {
            "text/plain": [
              "<Figure size 500x500 with 1 Axes>"
            ],
            "image/png": "[encoded data removed]"
          },
          "metadata": {}
        },
        {
          "output_type": "stream",
          "name": "stderr",
          "text": [
            "WARNING:matplotlib.image:Clipping input data to the valid range for imshow with RGB data ([0..1] for floats or [0..255] for integers).\n"
          ]
        },
        {
          "output_type": "stream",
          "name": "stdout",
          "text": [
            "True Label is 9 But model predict 1\n"
          ]
        },
        {
          "output_type": "display_data",
          "data": {
            "text/plain": [
              "<Figure size 500x500 with 1 Axes>"
            ],
            "image/png": "[encoded data removed]"
          },
          "metadata": {}
        }
      ],
      "source": [
        "######################################################################################################\n",
        "#visualize the selected samples, their corresponding perturbed image, and the magnified perturbation #\n",
        "#also print the ground truth and the predicted label for each sample                                 #\n",
        "######################################################################################################\n",
        "\n",
        "\n",
        "\n",
        "\n",
        "######################\n",
        "# Your code goes here\n",
        "for i, j in enumerate(image_index):\n",
        "  epsilon, delta, y_adv = generate_adversarial_FGSM(net, batch_x[int(j)], torch.Tensor([i]).type(torch.LongTensor).to(device), initial_epsilon=1/255)\n",
        "  print(f\"True Label is {i} But model predict {y_adv.max(1)[1].item()}\")\n",
        "  #imshow((1/epsilon) * delta)\n",
        "  with torch.no_grad():\n",
        "    true_image = batch_x[int(j)]\n",
        "    magnified_perturbation = (1/eps) * delta.squeeze(0)\n",
        "    perturbed_image = (batch_x[int(j)]+delta).squeeze(0)\n",
        "\n",
        "    imshow(torchvision.utils.make_grid(torch.stack([true_image, magnified_perturbation, perturbed_image])), 5)"
      ]
    },
    {
      "cell_type": "markdown",
      "metadata": {
        "id": "EfkA5WJp3TGQ"
      },
      "source": [
        "##**Targeted FGSM Attack**\n",
        "implement targeted FGSM attack."
      ]
    },
    {
      "cell_type": "code",
      "execution_count": 17,
      "metadata": {
        "id": "tjuJZ0UOAiT1"
      },
      "outputs": [],
      "source": [
        "########################################\n",
        "#define tergeted FGSM attack           #\n",
        "########################################\n",
        "\n",
        "def FGSM_targeted (model, x, y, y_targ, epsilon):\n",
        "  \"\"\"\n",
        "  inputs:\n",
        "    model: model to be attacked\n",
        "    x: input image\n",
        "    y: label\n",
        "    y_targ = target label\n",
        "    epsilon: clipping threshold for FGSM\n",
        "\n",
        "  outputs:\n",
        "    x': the perturbed image\n",
        "    delta: the added perturbation\n",
        "  \"\"\"\n",
        "\n",
        "  delta = None\n",
        "\n",
        "  ######################\n",
        "  # Your code goes here\n",
        "  loss = torch.nn.CrossEntropyLoss()\n",
        "  xin = x.data\n",
        "  xin.requires_grad = True\n",
        "  y_hat = model(xin)\n",
        "  cost = loss(y_hat, y) - loss(y_hat, y_targ)\n",
        "  model.zero_grad()\n",
        "  cost.backward()\n",
        "  delta = epsilon * xin.grad.detach().sign()\n",
        "\n",
        "\n",
        "  return x+delta, delta, model(x+delta)"
      ]
    },
    {
      "cell_type": "markdown",
      "metadata": {
        "id": "2DTwVtm13TGZ"
      },
      "source": [
        "###**Evaluation**\n",
        "for each sample, select the most probable lable as the target label (if the most probable label is the ground truth, select the second most probable label). For $\\epsilon \\in \\{\\frac{1}{255}, \\frac{4}{255}, \\frac{8}{255},\\}$ report the performance of the model on targeted FGSM attack on the test data."
      ]
    },
    {
      "cell_type": "code",
      "source": [
        "######################\n",
        "# Your code goes here\n",
        "epsilon = [1/255, 4/255, 8/255]\n",
        "criterion = nn.CrossEntropyLoss()\n",
        "acc_most = []\n",
        "for eps in epsilon:\n",
        "  correct = 0\n",
        "  total = 0\n",
        "  for (inputs, targets) in test_loader:\n",
        "    inputs, targets = inputs.to(device), targets.to(device)\n",
        "    t = net(inputs)\n",
        "    for i in range(t.shape[0]):\n",
        "      t[i, targets[i]] = -99999\n",
        "    t = t.max(1)[1]\n",
        "    fgsm_outputs = FGSM_targeted(net, inputs, targets, t, eps)[2]\n",
        "    _, predicted = fgsm_outputs.max(1)\n",
        "    total += targets.size(0)\n",
        "    correct += predicted.eq(targets).sum().item()\n",
        "  acc_most.append(100 * correct / total)\n",
        "  print(f'epsilon = {eps} accuracy = {100 * correct / total}')"
      ],
      "metadata": {
        "id": "3FtJ8Gv_lQpv",
        "colab": {
          "base_uri": "https://localhost:8080/"
        },
        "outputId": "793de2bb-0203-40b0-ad91-4c1cb8c0e048"
      },
      "execution_count": 18,
      "outputs": [
        {
          "output_type": "stream",
          "name": "stdout",
          "text": [
            "epsilon = 0.00392156862745098 accuracy = 68.96\n",
            "epsilon = 0.01568627450980392 accuracy = 53.47\n",
            "epsilon = 0.03137254901960784 accuracy = 36.39\n"
          ]
        }
      ]
    },
    {
      "cell_type": "markdown",
      "metadata": {
        "id": "vGZeCSmI3TGa"
      },
      "source": [
        "for each sample, select the least probable lable as the target label (if the least probable label is the ground truth, select the second most probable label). For $\\epsilon \\in \\{\\frac{1}{255}, \\frac{4}{255}, \\frac{8}{255},\\}$ report the performance of the model on targeted FGSM attack on the test data."
      ]
    },
    {
      "cell_type": "code",
      "execution_count": 19,
      "metadata": {
        "id": "MHaLPlKsVgbK",
        "colab": {
          "base_uri": "https://localhost:8080/"
        },
        "outputId": "65432c98-98e8-469c-ec91-14810ddadd37"
      },
      "outputs": [
        {
          "output_type": "stream",
          "name": "stdout",
          "text": [
            "epsilon = 0.00392156862745098 accuracy = 71.51\n",
            "epsilon = 0.01568627450980392 accuracy = 63.53\n",
            "epsilon = 0.03137254901960784 accuracy = 52.7\n"
          ]
        }
      ],
      "source": [
        "######################\n",
        "# Your code goes here\n",
        "epsilon = [1/255, 4/255, 8/255]\n",
        "criterion = nn.CrossEntropyLoss()\n",
        "acc_least = []\n",
        "for eps in epsilon:\n",
        "  correct = 0\n",
        "  total = 0\n",
        "  for (inputs, targets) in test_loader:\n",
        "    inputs, targets = inputs.to(device), targets.to(device)\n",
        "    t = net(inputs)\n",
        "    for i in range(t.shape[0]):\n",
        "      t[i, targets[i]] = 99999\n",
        "    t = t.min(1)[1]\n",
        "    fgsm_outputs = FGSM_targeted(net, inputs, targets, t, eps)[2]\n",
        "    _, predicted = fgsm_outputs.max(1)\n",
        "    total += targets.size(0)\n",
        "    correct += predicted.eq(targets).sum().item()\n",
        "  acc_least.append(100 * correct / total)\n",
        "  print(f'epsilon = {eps} accuracy = {100 * correct / total}')"
      ]
    },
    {
      "cell_type": "markdown",
      "source": [
        "plot accuracy of model with respect to $\\epsilon$ both for least probable and most probable target labels (both in a single plot)."
      ],
      "metadata": {
        "id": "UDD6c-f7lT6g"
      }
    },
    {
      "cell_type": "code",
      "source": [
        "######################\n",
        "# Your code goes here\n",
        "plt.plot(np.array(['1/255', '4/255', '8/255']), acc_least, label='Least_probable')\n",
        "plt.plot(np.array(['1/255', '4/255', '8/255']), acc_most, label='Most_probable')\n",
        "plt.xlabel('eps')\n",
        "plt.ylabel('Accuracy')\n",
        "plt.legend()\n",
        "plt.show()"
      ],
      "metadata": {
        "id": "a_REC3Jhlm2S",
        "colab": {
          "base_uri": "https://localhost:8080/",
          "height": 449
        },
        "outputId": "f5271af1-638c-4f3e-a558-6402a5866d18"
      },
      "execution_count": 20,
      "outputs": [
        {
          "output_type": "display_data",
          "data": {
            "text/plain": [
              "<Figure size 640x480 with 1 Axes>"
            ],
            "image/png": "[encoded data removed]"
          },
          "metadata": {}
        }
      ]
    },
    {
      "cell_type": "markdown",
      "metadata": {
        "id": "mGpFIrId3TGa"
      },
      "source": [
        "#**PGD Attack (30 pts)**\n",
        "\n",
        "Implement PGD attack in the following cell. There is no need to change the default $\\epsilon$ and $\\alpha$."
      ]
    },
    {
      "cell_type": "code",
      "execution_count": 21,
      "metadata": {
        "id": "5A7fFCvWty0I"
      },
      "outputs": [],
      "source": [
        "def PGD (model, x, y, iterations, epsilon=8/255, alpha=3/255):\n",
        "  \"\"\"\n",
        "  inputs:\n",
        "    model: model to be attacked\n",
        "    x: input image\n",
        "    y: label\n",
        "    iterations: number of iterations for PGD attack\n",
        "    epsilon: clipping threshold for PGD\n",
        "    alpha: step size for PGD attack\n",
        "\n",
        "  outputs:\n",
        "    x': the perturbed image\n",
        "    delta: the added perturbation\n",
        "    y': prediction of the model for the perturbed input\n",
        "  \"\"\"\n",
        "\n",
        "  delta = None\n",
        "\n",
        "  ######################\n",
        "  # Your code goes here\n",
        "  loss = criterion=nn.CrossEntropyLoss()\n",
        "  xin = x.data\n",
        "\n",
        "  for iter in range(iterations):\n",
        "    x.requires_grad = True\n",
        "    y_hat = model(x)\n",
        "    cost = loss(y_hat, y)\n",
        "    model.zero_grad()\n",
        "    cost.backward()\n",
        "    delta = alpha * x.grad.detach().sign()\n",
        "    x_adv = x + delta\n",
        "    x = (x + torch.clamp(x_adv - xin , min=-epsilon, max=epsilon)).detach()\n",
        "  delta = x - xin\n",
        "\n",
        "  return xin+delta, delta, model(xin + delta)"
      ]
    },
    {
      "cell_type": "markdown",
      "metadata": {
        "id": "r00Fb6Am3TGb"
      },
      "source": [
        "##**Evaluation**\n",
        "for iterations $\\in \\{3, 7, 12\\}$, evaluate performance of the model on adversarial test data."
      ]
    },
    {
      "cell_type": "code",
      "execution_count": 22,
      "metadata": {
        "id": "WtE-CjiQaC06",
        "colab": {
          "base_uri": "https://localhost:8080/"
        },
        "outputId": "a10d5d65-8070-4b1e-926a-c22a28d0e6a0"
      },
      "outputs": [
        {
          "output_type": "stream",
          "name": "stdout",
          "text": [
            "iteration = 3 accuracy = 13.75\n",
            "iteration = 7 accuracy = 0.75\n",
            "iteration = 12 accuracy = 0.43\n"
          ]
        }
      ],
      "source": [
        "######################\n",
        "# Your code goes here\n",
        "\n",
        "iterations = [3, 7, 12]\n",
        "for iter in iterations:\n",
        "  correct = 0\n",
        "  total = 0\n",
        "  for (inputs, targets) in test_loader:\n",
        "    inputs, targets = inputs.to(device), targets.to(device)\n",
        "    pgd_outputs = PGD(net, inputs, targets, iter)[2]\n",
        "    _, predicted = pgd_outputs.max(1)\n",
        "    total += targets.size(0)\n",
        "    correct += predicted.eq(targets).sum().item()\n",
        "\n",
        "  print(f'iteration = {iter} accuracy = {100 * correct / total}')"
      ]
    },
    {
      "cell_type": "markdown",
      "source": [
        "#**Questions (15 pts)**\n",
        "\n",
        "1. What was the effect of $\\epsilon$ in targeted and untargeted FGSM attack according to your observations?\n",
        "\n",
        "با توجه به نتایج بدست آمده با افزایش مقدار اپسیلون دقت مدل کاهش میابد و تغییرات مقادیر پیکسل های تصاویر بیشتر عوض میشوند.\n",
        "\n",
        "2. Compare performance of the model on the least probable and most probable targetted FGSM attacks, justify your observation.\n",
        "با نگاه به نتایج بدست آمده اگر کلاس هدف دارای بیشترین احتمال باشد مدل راحت تر حمله میخورد و دقت مدل نسبت به وقتی که کلاس هدف برابر کلاس با کمترین احتمال است، بیشتر کاهش میابد. (کاملا منطقی :))\n",
        "3. What was the effect of number of iterations in PGD attack according to your observations?\n",
        "با افزایش تعداد مراحل، دقت مدل بیشتر کاهش میابد.\n",
        "4. compare the performance of model on PGD attacks and FGSM attacks.\n",
        "با توجه به نتایج بدست امده حمله پی‌جی‌دی موفق تر از  اف‌جی‌اس‌ام است و بیشتر میتواند دقت مدل روی مجموعه دادگان را کاهش دهد."
      ],
      "metadata": {
        "id": "plDgHxqZhDrl"
      }
    }
  ],
  "metadata": {
    "accelerator": "GPU",
    "colab": {
      "provenance": []
    },
    "kernelspec": {
      "display_name": "Python 3",
      "language": "python",
      "name": "python3"
    },
    "language_info": {
      "codemirror_mode": {
        "name": "ipython",
        "version": 3
      },
      "file_extension": ".py",
      "mimetype": "text/x-python",
      "name": "python",
      "nbconvert_exporter": "python",
      "pygments_lexer": "ipython3",
      "version": "3.6.5"
    }
  },
  "nbformat": 4,
  "nbformat_minor": 0
}
