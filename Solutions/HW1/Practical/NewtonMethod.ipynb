{
 "cells": [
  {
   "cell_type": "markdown",
   "metadata": {
    "id": "ifY3pbKCwjzT"
   },
   "source": [
    "## Part B: Newton Method Implementation"
   ]
  },
  {
   "cell_type": "code",
   "execution_count": 48,
   "metadata": {
    "id": "MDUZWZuUwjzT"
   },
   "outputs": [],
   "source": [
    "import numpy as np\n",
    "import pandas as pd \n",
    "import seaborn as sn\n",
    "import matplotlib.pyplot as plt\n",
    "import random\n",
    "import os"
   ]
  },
  {
   "cell_type": "code",
   "execution_count": 49,
   "metadata": {
    "id": "00zam7SIwjzV"
   },
   "outputs": [],
   "source": [
    "def func(x1, x2):\n",
    "    # Define the function\n",
    "    ####### TODO ########\n",
    "    res = (2 * (x1 **2)) + (2 * (x2 **2)) - (17 * x2 * np.cos(0.2 * np.pi * x1)) - (x1 * x2)\n",
    "    #####################\n",
    "    return res"
   ]
  },
  {
   "cell_type": "code",
   "execution_count": 50,
   "metadata": {
    "id": "1pnTh5xhwjzW"
   },
   "outputs": [],
   "source": [
    "def hessian(x1, x2):\n",
    "    \n",
    "    # Calculate the hessian matrix\n",
    "    # Use theoretically-derived formulas to implement this function\n",
    "    ####### TODO ########\n",
    "    res = np.array([[4 + (0.68 * (np.pi ** 2) * x2 * np.cos(0.2 * np.pi * x1)), ((3.4 * (np.pi) * np.sin(0.2 * np.pi * x1)) - 1)],\n",
    "                   [(3.4 * np.pi * np.sin(0.2 * np.pi * x1 )) - 1, 4]])\n",
    "    #####################\n",
    "    return res"
   ]
  },
  {
   "cell_type": "code",
   "execution_count": 51,
   "metadata": {
    "id": "6U0iy9YSwjzW"
   },
   "outputs": [],
   "source": [
    "# Define function inputs\n",
    "def hessianInv(x1, x2):\n",
    "    hes = hessian(x1, x2)\n",
    "    \n",
    "    # Calculate the determinant and inverse of the hessian matrix\n",
    "    ####### TODO ########\n",
    "    inv = np.linalg.inv(hes)\n",
    "    #####################\n",
    "    return inv"
   ]
  },
  {
   "cell_type": "code",
   "execution_count": 52,
   "metadata": {
    "id": "3xMTyu7swjzX"
   },
   "outputs": [],
   "source": [
    "def gradient(x1, x2):\n",
    "    \n",
    "    # Calculate the gradient vector\n",
    "    # Use theoretically-derived formulas to implement this function\n",
    "    ####### TODO ########\n",
    "    res = np.array([[(4 * x1) + (3.4 * np.pi * x2 * np.sin(0.2 * np.pi * x1)) - x2],\n",
    "                   [(4 * x2 ) - (17 * np.cos(0.2 * np.pi * x1)) - x1]])\n",
    "    #####################\n",
    "    return res"
   ]
  },
  {
   "cell_type": "code",
   "execution_count": 53,
   "metadata": {
    "id": "edwHQ6fdwjzX"
   },
   "outputs": [],
   "source": [
    "def newtonMethod(x1, x2, epochs):\n",
    "    \n",
    "    for i in range(epochs):\n",
    "        # Perform one step of the newton method\n",
    "        # Use previous functions to implement this part\n",
    "        # Update values of x1 and x2\n",
    "        ####### TODO ########\n",
    "        temp = np.array([[x1], [x2]]) - np.matmul(hessianInv(x1, x2), gradient(x1,x2))\n",
    "        x1 = float(temp[0])\n",
    "        x2 = float(temp[1])\n",
    "        #print(temp[1])\n",
    "        #####################\n",
    "    return x1, x2"
   ]
  },
  {
   "cell_type": "markdown",
   "metadata": {
    "id": "j7dzruGrwjzY"
   },
   "source": [
    "Now we shall go on to finding the minimum value"
   ]
  },
  {
   "cell_type": "code",
   "execution_count": 54,
   "metadata": {
    "id": "Ks9zZ7bpwjzY"
   },
   "outputs": [
    {
     "name": "stdout",
     "output_type": "stream",
     "text": [
      "x1 is: 0.13087466007249957 and x2 is: 4.268357652256218 (after 100 epochs)\n",
      "The Minimum Value for the function is: -36.40349774185023 (after 100 epochs)\n"
     ]
    }
   ],
   "source": [
    "x1 = 1\n",
    "x2 = 3\n",
    "epochs = 100\n",
    "x1, x2 = newtonMethod(x1, x2, epochs)\n",
    "minVal = func(x1, x2)\n",
    "print(f\"x1 is: {x1} and x2 is: {x2} (after {epochs} epochs)\")\n",
    "print(f\"The Minimum Value for the function is: {minVal} (after {epochs} epochs)\")"
   ]
  },
  {
   "cell_type": "markdown",
   "metadata": {
    "id": "xIPYlyC0XVIK"
   },
   "source": [
    "* desired output is (approximately):\n",
    "* x1 is: 0.13 and x2 is: 4.27 (after 100 epochs)\n",
    "* The Minimum Value for the function is: -36.40 (after 100 epochs)"
   ]
  },
  {
   "cell_type": "markdown",
   "metadata": {
    "id": "pByuCA76wjza"
   },
   "source": [
    "Now we go on to plot the wanted shape"
   ]
  },
  {
   "cell_type": "code",
   "execution_count": 55,
   "metadata": {
    "id": "7rClNt-_wjza"
   },
   "outputs": [],
   "source": [
    "####### TODO #########\n",
    "stepSize = 0.5\n",
    "range_x1 = np.arange(-4.5, 5, stepSize)\n",
    "range_x2 = np.arange(0.5, 10, stepSize)"
   ]
  },
  {
   "cell_type": "code",
   "execution_count": 56,
   "metadata": {},
   "outputs": [
    {
     "data": {
      "text/plain": [
       "4.268357652256218"
      ]
     },
     "execution_count": 56,
     "metadata": {},
     "output_type": "execute_result"
    }
   ],
   "source": [
    "x2"
   ]
  },
  {
   "cell_type": "code",
   "execution_count": 65,
   "metadata": {
    "id": "6gf1X7wRwjzb"
   },
   "outputs": [],
   "source": [
    "points = []\n",
    "# We want to classify the points into three categories:\n",
    "# Close = -1, Far = 0, Further = 1\n",
    "categories = []\n",
    "for x1 in range_x1:\n",
    "    for x2 in range_x2:\n",
    "        # Use Newton method and find the distance as stated in the question\n",
    "        ######## TODO ##########\n",
    "        x1_new , x2_new = newtonMethod(x1, x2, 100)\n",
    "        distance = np.abs(func(x1_new, x2_new) + 36.4 )\n",
    "        ########################\n",
    "        if distance < 15:\n",
    "            categories.append(-1)\n",
    "        elif distance < 150:\n",
    "            categories.append(0)\n",
    "        else:\n",
    "            categories.append(1)\n",
    "        points.append([x1, x2])"
   ]
  },
  {
   "cell_type": "code",
   "execution_count": 66,
   "metadata": {
    "id": "dujzas6zwjzb"
   },
   "outputs": [
    {
     "data": {
      "image/png": "[encoded data removed]",
      "text/plain": [
       "<Figure size 700x700 with 1 Axes>"
      ]
     },
     "metadata": {},
     "output_type": "display_data"
    }
   ],
   "source": [
    "plt.figure(figsize=(7,7))\n",
    "plt.title('Scatter plot (based on distance)')\n",
    "category_neg = []\n",
    "category_0 = []\n",
    "category_1 = []\n",
    "\n",
    "########## TODO ###########\n",
    "# Complete the figure using plt.scatter\n",
    "for i in range(len(points)):\n",
    "    point = points[i]\n",
    "    category = categories[i]\n",
    "    if category == -1:\n",
    "        category_neg.append((point[0],point[1]))\n",
    "        #plt.scatter(point[0], point[1], c='yellow', marker='.')\n",
    "        \n",
    "    elif category == 0:\n",
    "        category_0.append((point[0],point[1]))\n",
    "        #plt.scatter(point[0], point[1], c='b', marker='.' )\n",
    "    else:\n",
    "        category_1.append((point[0],point[1]))\n",
    "        #plt.scatter(point[0], point[1], c='g', marker='.')\n",
    "i_neg_0 = [i[0] for i in category_neg] \n",
    "i_neg_1 = [i[1] for i in category_neg]     \n",
    "i_0_0 = [i[0] for i in category_0]     \n",
    "i_0_1 = [i[1] for i in category_0]     \n",
    "i_1_0 = [i[0] for i in category_1]     \n",
    "i_1_1 = [i[1] for i in category_1]     \n",
    "\n",
    "plt.scatter(i_neg_0, i_neg_1, c='yellow', marker='.', label='close')\n",
    "plt.scatter(i_0_0, i_0_1, c='b', marker='.', label='far')\n",
    "plt.scatter(i_1_0, i_1_1, c='g', marker='.', label='farther')\n",
    "\n",
    "plt.legend(loc='upper right')\n",
    "###########################\n",
    "plt.show()"
   ]
  },
  {
   "cell_type": "code",
   "execution_count": null,
   "metadata": {
    "id": "pf0Tdwrtxz-z"
   },
   "outputs": [],
   "source": []
  },
  {
   "cell_type": "code",
   "execution_count": null,
   "metadata": {},
   "outputs": [],
   "source": []
  }
 ],
 "metadata": {
  "colab": {
   "provenance": []
  },
  "kernelspec": {
   "display_name": "Python 3 (ipykernel)",
   "language": "python",
   "name": "python3"
  },
  "language_info": {
   "codemirror_mode": {
    "name": "ipython",
    "version": 3
   },
   "file_extension": ".py",
   "mimetype": "text/x-python",
   "name": "python",
   "nbconvert_exporter": "python",
   "pygments_lexer": "ipython3",
   "version": "3.9.16"
  }
 },
 "nbformat": 4,
 "nbformat_minor": 1
}
